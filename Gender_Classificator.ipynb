{
  "nbformat": 4,
  "nbformat_minor": 0,
  "metadata": {
    "colab": {
      "name": "Gender_Classificator.ipynb",
      "provenance": []
    },
    "kernelspec": {
      "name": "python3",
      "display_name": "Python 3"
    },
    "accelerator": "GPU"
  },
  "cells": [
    {
      "cell_type": "code",
      "metadata": {
        "id": "bU-t3v1xQGeZ"
      },
      "source": [
        "import os\r\n",
        "from tensorflow.keras import layers\r\n",
        "from tensorflow.keras import Model\r\n",
        "from tensorflow.keras.preprocessing.image import ImageDataGenerator\r\n",
        "import tensorflow as tf"
      ],
      "execution_count": 1,
      "outputs": []
    },
    {
      "cell_type": "code",
      "metadata": {
        "colab": {
          "base_uri": "https://localhost:8080/"
        },
        "id": "jZ0dF3bLQSWJ",
        "outputId": "0c7a801c-bb9d-42a0-8c7a-28f5350ce4eb"
      },
      "source": [
        "from google.colab import drive\r\n",
        "drive.mount('/content/drive')"
      ],
      "execution_count": 2,
      "outputs": [
        {
          "output_type": "stream",
          "text": [
            "Mounted at /content/drive\n"
          ],
          "name": "stdout"
        }
      ]
    },
    {
      "cell_type": "code",
      "metadata": {
        "id": "_jo4wQ8zQsL4"
      },
      "source": [
        "!unzip \"/content/drive/My Drive/archive.zip\""
      ],
      "execution_count": null,
      "outputs": []
    },
    {
      "cell_type": "code",
      "metadata": {
        "colab": {
          "base_uri": "https://localhost:8080/"
        },
        "id": "LSnolKu1Q1h0",
        "outputId": "0c0e0be2-d929-47cc-d029-899b5c9b07f7"
      },
      "source": [
        "train_datagen = ImageDataGenerator(rescale = 1./255,\r\n",
        "\t  rotation_range=40,\r\n",
        "      width_shift_range=0.2,\r\n",
        "      height_shift_range=0.2,\r\n",
        "      shear_range=0.2,\r\n",
        "      zoom_range=0.2,\r\n",
        "      horizontal_flip=True,\r\n",
        "      fill_mode='nearest')\r\n",
        "\r\n",
        "\r\n",
        "test_datagen = ImageDataGenerator( rescale = 1.0/255)\r\n",
        "\r\n",
        "train_generator = train_datagen.flow_from_directory(\"archive/Dataset/Train/\",\r\n",
        "                                                    batch_size =256 ,\r\n",
        "                                                    class_mode = 'binary', \r\n",
        "                                                    target_size = (64, 64))     \r\n",
        "\r\n",
        "validation_generator =  test_datagen.flow_from_directory( \"archive/Dataset/Validation/\",\r\n",
        "                                                          batch_size  = 256,\r\n",
        "                                                          class_mode  = 'binary', \r\n",
        "                                                          target_size = (64, 64))"
      ],
      "execution_count": 4,
      "outputs": [
        {
          "output_type": "stream",
          "text": [
            "Found 160000 images belonging to 2 classes.\n",
            "Found 22598 images belonging to 2 classes.\n"
          ],
          "name": "stdout"
        }
      ]
    },
    {
      "cell_type": "code",
      "metadata": {
        "colab": {
          "base_uri": "https://localhost:8080/"
        },
        "id": "W0dAormsRHkL",
        "outputId": "cc28efb6-f3d1-4545-bcd3-3cae38b77851"
      },
      "source": [
        "from keras.optimizers import Adam\r\n",
        "model = tf.keras.models.Sequential([\r\n",
        "    # 1st conv\r\n",
        "  tf.keras.layers.Conv2D(96, (11,11),strides=(4,4), activation='relu', input_shape=(64, 64, 3)),\r\n",
        "  tf.keras.layers.BatchNormalization(),\r\n",
        "  tf.keras.layers.MaxPooling2D(2, strides=(2,2)),\r\n",
        "    # 2nd conv\r\n",
        "  tf.keras.layers.Conv2D(256, (11,11),strides=(1,1), activation='relu',padding=\"same\"),\r\n",
        "  tf.keras.layers.BatchNormalization(),\r\n",
        "     # 3rd conv\r\n",
        "  tf.keras.layers.Conv2D(384, (3,3),strides=(1,1), activation='relu',padding=\"same\"),\r\n",
        "  tf.keras.layers.BatchNormalization(),\r\n",
        "    # 4th conv\r\n",
        "  tf.keras.layers.Conv2D(384, (3,3),strides=(1,1), activation='relu',padding=\"same\"),\r\n",
        "  tf.keras.layers.BatchNormalization(),\r\n",
        "    # 5th Conv\r\n",
        "  tf.keras.layers.Conv2D(256, (3, 3), strides=(1, 1), activation='relu',padding=\"same\"),\r\n",
        "  tf.keras.layers.BatchNormalization(),\r\n",
        "  tf.keras.layers.MaxPooling2D(2, strides=(2, 2)),\r\n",
        "  # To Flatten layer\r\n",
        "  tf.keras.layers.Flatten(),\r\n",
        "  # To FC layer 1\r\n",
        "  tf.keras.layers.Dense(4096, activation='relu'),\r\n",
        "  tf.keras.layers.Dropout(0.5),\r\n",
        "  #To FC layer 2\r\n",
        "  tf.keras.layers.Dense(4096, activation='relu'),\r\n",
        "  tf.keras.layers.Dropout(0.5),\r\n",
        "  tf.keras.layers.Dense(1, activation='sigmoid')\r\n",
        "  ])\r\n",
        "model.compile(\r\n",
        "    optimizer=Adam(lr=0.001),\r\n",
        "    loss='binary_crossentropy',\r\n",
        "    metrics=['accuracy']\r\n",
        "   )\r\n",
        "hist = model.fit_generator(generator=train_generator,\r\n",
        "                    validation_data=validation_generator,\r\n",
        "                    epochs=50)"
      ],
      "execution_count": 5,
      "outputs": [
        {
          "output_type": "stream",
          "text": [
            "/usr/local/lib/python3.6/dist-packages/tensorflow/python/keras/engine/training.py:1844: UserWarning: `Model.fit_generator` is deprecated and will be removed in a future version. Please use `Model.fit`, which supports generators.\n",
            "  warnings.warn('`Model.fit_generator` is deprecated and '\n"
          ],
          "name": "stderr"
        },
        {
          "output_type": "stream",
          "text": [
            "Epoch 1/50\n",
            "625/625 [==============================] - 362s 566ms/step - loss: 1.0395 - accuracy: 0.6254 - val_loss: 0.4104 - val_accuracy: 0.8139\n",
            "Epoch 2/50\n",
            "625/625 [==============================] - 335s 536ms/step - loss: 0.4500 - accuracy: 0.7924 - val_loss: 0.4083 - val_accuracy: 0.8236\n",
            "Epoch 3/50\n",
            "625/625 [==============================] - 332s 531ms/step - loss: 0.3539 - accuracy: 0.8462 - val_loss: 0.2982 - val_accuracy: 0.8763\n",
            "Epoch 4/50\n",
            "625/625 [==============================] - 328s 525ms/step - loss: 0.2952 - accuracy: 0.8751 - val_loss: 0.2201 - val_accuracy: 0.9077\n",
            "Epoch 5/50\n",
            "625/625 [==============================] - 325s 521ms/step - loss: 0.2628 - accuracy: 0.8898 - val_loss: 0.2682 - val_accuracy: 0.8803\n",
            "Epoch 6/50\n",
            "625/625 [==============================] - 323s 517ms/step - loss: 0.2544 - accuracy: 0.8944 - val_loss: 0.2029 - val_accuracy: 0.9179\n",
            "Epoch 7/50\n",
            "625/625 [==============================] - 325s 520ms/step - loss: 0.2344 - accuracy: 0.9047 - val_loss: 0.2159 - val_accuracy: 0.9194\n",
            "Epoch 8/50\n",
            "625/625 [==============================] - 323s 516ms/step - loss: 0.2234 - accuracy: 0.9090 - val_loss: 0.2300 - val_accuracy: 0.9019\n",
            "Epoch 9/50\n",
            "625/625 [==============================] - 324s 518ms/step - loss: 0.2159 - accuracy: 0.9117 - val_loss: 0.1810 - val_accuracy: 0.9299\n",
            "Epoch 10/50\n",
            "625/625 [==============================] - 325s 520ms/step - loss: 0.2115 - accuracy: 0.9134 - val_loss: 0.1900 - val_accuracy: 0.9169\n",
            "Epoch 11/50\n",
            "625/625 [==============================] - 321s 514ms/step - loss: 0.2027 - accuracy: 0.9189 - val_loss: 0.1675 - val_accuracy: 0.9326\n",
            "Epoch 12/50\n",
            "625/625 [==============================] - 324s 519ms/step - loss: 0.2038 - accuracy: 0.9168 - val_loss: 0.1979 - val_accuracy: 0.9131\n",
            "Epoch 13/50\n",
            "625/625 [==============================] - 325s 520ms/step - loss: 0.1939 - accuracy: 0.9210 - val_loss: 0.4622 - val_accuracy: 0.8204\n",
            "Epoch 14/50\n",
            "625/625 [==============================] - 333s 532ms/step - loss: 0.1913 - accuracy: 0.9227 - val_loss: 0.1783 - val_accuracy: 0.9284\n",
            "Epoch 15/50\n",
            "625/625 [==============================] - 343s 549ms/step - loss: 0.2113 - accuracy: 0.9165 - val_loss: 0.5502 - val_accuracy: 0.7582\n",
            "Epoch 16/50\n",
            "625/625 [==============================] - 359s 574ms/step - loss: 0.2642 - accuracy: 0.8883 - val_loss: 0.2625 - val_accuracy: 0.8848\n",
            "Epoch 17/50\n",
            "625/625 [==============================] - 362s 579ms/step - loss: 0.2022 - accuracy: 0.9178 - val_loss: 0.2130 - val_accuracy: 0.9117\n",
            "Epoch 18/50\n",
            "625/625 [==============================] - 337s 539ms/step - loss: 0.1932 - accuracy: 0.9207 - val_loss: 0.2872 - val_accuracy: 0.8803\n",
            "Epoch 19/50\n",
            "625/625 [==============================] - 328s 525ms/step - loss: 0.1836 - accuracy: 0.9254 - val_loss: 0.1570 - val_accuracy: 0.9365\n",
            "Epoch 20/50\n",
            "625/625 [==============================] - 337s 539ms/step - loss: 0.1816 - accuracy: 0.9264 - val_loss: 0.1772 - val_accuracy: 0.9316\n",
            "Epoch 21/50\n",
            "625/625 [==============================] - 356s 570ms/step - loss: 0.1808 - accuracy: 0.9270 - val_loss: 0.2016 - val_accuracy: 0.9270\n",
            "Epoch 22/50\n",
            "625/625 [==============================] - 339s 542ms/step - loss: 0.1771 - accuracy: 0.9278 - val_loss: 0.1676 - val_accuracy: 0.9304\n",
            "Epoch 23/50\n",
            "625/625 [==============================] - 329s 527ms/step - loss: 0.1745 - accuracy: 0.9289 - val_loss: 0.1823 - val_accuracy: 0.9322\n",
            "Epoch 24/50\n",
            "625/625 [==============================] - 333s 532ms/step - loss: 0.2028 - accuracy: 0.9208 - val_loss: 0.1569 - val_accuracy: 0.9346\n",
            "Epoch 25/50\n",
            "625/625 [==============================] - 330s 529ms/step - loss: 0.1748 - accuracy: 0.9299 - val_loss: 0.5463 - val_accuracy: 0.7738\n",
            "Epoch 26/50\n",
            "625/625 [==============================] - 335s 536ms/step - loss: 0.1731 - accuracy: 0.9297 - val_loss: 0.1830 - val_accuracy: 0.9289\n",
            "Epoch 27/50\n",
            "625/625 [==============================] - 330s 528ms/step - loss: 0.1695 - accuracy: 0.9310 - val_loss: 0.1698 - val_accuracy: 0.9346\n",
            "Epoch 28/50\n",
            "625/625 [==============================] - 328s 525ms/step - loss: 0.1685 - accuracy: 0.9332 - val_loss: 0.3053 - val_accuracy: 0.8860\n",
            "Epoch 29/50\n",
            "625/625 [==============================] - 325s 521ms/step - loss: 0.1648 - accuracy: 0.9337 - val_loss: 0.1495 - val_accuracy: 0.9381\n",
            "Epoch 30/50\n",
            "625/625 [==============================] - 328s 525ms/step - loss: 0.1628 - accuracy: 0.9353 - val_loss: 0.2028 - val_accuracy: 0.9234\n",
            "Epoch 31/50\n",
            "625/625 [==============================] - 333s 533ms/step - loss: 0.1604 - accuracy: 0.9352 - val_loss: 0.2148 - val_accuracy: 0.9165\n",
            "Epoch 32/50\n",
            "625/625 [==============================] - 327s 522ms/step - loss: 0.1610 - accuracy: 0.9353 - val_loss: 0.1738 - val_accuracy: 0.9357\n",
            "Epoch 33/50\n",
            "625/625 [==============================] - 321s 514ms/step - loss: 0.1560 - accuracy: 0.9371 - val_loss: 0.1722 - val_accuracy: 0.9279\n",
            "Epoch 34/50\n",
            "625/625 [==============================] - 320s 511ms/step - loss: 0.1531 - accuracy: 0.9386 - val_loss: 0.1543 - val_accuracy: 0.9403\n",
            "Epoch 35/50\n",
            "625/625 [==============================] - 321s 513ms/step - loss: 0.1525 - accuracy: 0.9388 - val_loss: 0.1679 - val_accuracy: 0.9315\n",
            "Epoch 36/50\n",
            "625/625 [==============================] - 322s 516ms/step - loss: 0.1503 - accuracy: 0.9396 - val_loss: 0.1439 - val_accuracy: 0.9415\n",
            "Epoch 37/50\n",
            "625/625 [==============================] - 323s 516ms/step - loss: 0.1499 - accuracy: 0.9397 - val_loss: 0.1758 - val_accuracy: 0.9349\n",
            "Epoch 38/50\n",
            "625/625 [==============================] - 324s 519ms/step - loss: 0.1487 - accuracy: 0.9406 - val_loss: 0.1472 - val_accuracy: 0.9441\n",
            "Epoch 39/50\n",
            "625/625 [==============================] - 324s 518ms/step - loss: 0.1745 - accuracy: 0.9291 - val_loss: 0.1496 - val_accuracy: 0.9372\n",
            "Epoch 40/50\n",
            "625/625 [==============================] - 324s 519ms/step - loss: 0.1663 - accuracy: 0.9332 - val_loss: 0.1652 - val_accuracy: 0.9334\n",
            "Epoch 41/50\n",
            "625/625 [==============================] - 324s 518ms/step - loss: 0.1556 - accuracy: 0.9379 - val_loss: 0.1303 - val_accuracy: 0.9476\n",
            "Epoch 42/50\n",
            "625/625 [==============================] - 323s 516ms/step - loss: 0.1542 - accuracy: 0.9374 - val_loss: 0.1466 - val_accuracy: 0.9459\n",
            "Epoch 43/50\n",
            "625/625 [==============================] - 322s 515ms/step - loss: 0.1520 - accuracy: 0.9397 - val_loss: 0.1378 - val_accuracy: 0.9451\n",
            "Epoch 44/50\n",
            "625/625 [==============================] - 323s 517ms/step - loss: 0.1494 - accuracy: 0.9405 - val_loss: 0.1301 - val_accuracy: 0.9463\n",
            "Epoch 45/50\n",
            "625/625 [==============================] - 321s 513ms/step - loss: 0.1494 - accuracy: 0.9402 - val_loss: 0.1688 - val_accuracy: 0.9371\n",
            "Epoch 46/50\n",
            "625/625 [==============================] - 345s 553ms/step - loss: 0.1524 - accuracy: 0.9397 - val_loss: 0.2070 - val_accuracy: 0.9261\n",
            "Epoch 47/50\n",
            "625/625 [==============================] - 345s 552ms/step - loss: 0.1486 - accuracy: 0.9409 - val_loss: 0.1725 - val_accuracy: 0.9390\n",
            "Epoch 48/50\n",
            "625/625 [==============================] - 333s 533ms/step - loss: 0.1473 - accuracy: 0.9412 - val_loss: 0.2756 - val_accuracy: 0.8958\n",
            "Epoch 49/50\n",
            "625/625 [==============================] - 336s 538ms/step - loss: 0.1455 - accuracy: 0.9424 - val_loss: 0.1325 - val_accuracy: 0.9492\n",
            "Epoch 50/50\n",
            "625/625 [==============================] - 327s 523ms/step - loss: 0.1433 - accuracy: 0.9429 - val_loss: 0.1317 - val_accuracy: 0.9488\n"
          ],
          "name": "stdout"
        }
      ]
    },
    {
      "cell_type": "code",
      "metadata": {
        "id": "MA7rCtBnLq0G",
        "colab": {
          "base_uri": "https://localhost:8080/",
          "height": 298
        },
        "outputId": "462c3661-969f-465a-9668-27ace31d2298"
      },
      "source": [
        "import matplotlib.pyplot as plt\r\n",
        "acc = hist.history['accuracy']\r\n",
        "val_acc = hist.history['val_accuracy']\r\n",
        "loss = hist.history['loss']\r\n",
        "val_loss = hist.history['val_loss']\r\n",
        "\r\n",
        "epochs = range(len(acc))\r\n",
        "\r\n",
        "plt.plot(epochs, acc, 'r', label='Training accuracy')\r\n",
        "plt.plot(epochs, val_acc, 'b', label='Validation accuracy')\r\n",
        "plt.title('Training and validation accuracy')\r\n",
        "plt.legend(loc=0)\r\n",
        "plt.figure()\r\n",
        "plt.show()"
      ],
      "execution_count": 6,
      "outputs": [
        {
          "output_type": "display_data",
          "data": {
            "image/png": "[encoded data removed]",
            "text/plain": [
              "<Figure size 432x288 with 1 Axes>"
            ]
          },
          "metadata": {
            "tags": [],
            "needs_background": "light"
          }
        },
        {
          "output_type": "display_data",
          "data": {
            "text/plain": [
              "<Figure size 432x288 with 0 Axes>"
            ]
          },
          "metadata": {
            "tags": []
          }
        }
      ]
    },
    {
      "cell_type": "code",
      "metadata": {
        "id": "CyS88VV9MIG6",
        "colab": {
          "base_uri": "https://localhost:8080/",
          "height": 318
        },
        "outputId": "bcb316d9-0dbd-4f5a-a716-112909d56092"
      },
      "source": [
        "import numpy as np\r\n",
        "\r\n",
        "from keras.preprocessing import image\r\n",
        "# predicting images\r\n",
        "path = \"archive/Dataset/Test/Female/160024.jpg\"\r\n",
        "img = image.load_img(path, target_size=(64, 64))\r\n",
        "x = image.img_to_array(img)\r\n",
        "x = np.expand_dims(x, axis=0)\r\n",
        "\r\n",
        "images = np.vstack([x])\r\n",
        "classes = model.predict(images, batch_size=1)\r\n",
        "print(classes[0])\r\n",
        "if classes[0]>0.5:\r\n",
        "    print(\"is a man\")\r\n",
        "else:\r\n",
        "    print( \" is a female\")\r\n",
        "plt.imshow(img)"
      ],
      "execution_count": 14,
      "outputs": [
        {
          "output_type": "stream",
          "text": [
            "[0.]\n",
            " is a female\n"
          ],
          "name": "stdout"
        },
        {
          "output_type": "execute_result",
          "data": {
            "text/plain": [
              "<matplotlib.image.AxesImage at 0x7f8f3c490780>"
            ]
          },
          "metadata": {
            "tags": []
          },
          "execution_count": 14
        },
        {
          "output_type": "display_data",
          "data": {
            "image/png": "[encoded data removed]",
            "text/plain": [
              "<Figure size 432x288 with 1 Axes>"
            ]
          },
          "metadata": {
            "tags": [],
            "needs_background": "light"
          }
        }
      ]
    }
  ]
}
